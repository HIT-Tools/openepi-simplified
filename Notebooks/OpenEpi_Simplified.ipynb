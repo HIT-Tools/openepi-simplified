{
  "nbformat": 4,
  "nbformat_minor": 0,
  "metadata": {
    "colab": {
      "name": "OpenEpi_Simplified.ipynb",
      "provenance": [],
      "collapsed_sections": []
    },
    "kernelspec": {
      "name": "python3",
      "display_name": "Python 3"
    }
  },
  "cells": [
    {
      "cell_type": "markdown",
      "source": [
        "# <b>Simplified</b> version of <b>OpenEPI</b> for embedding\n",
        "\n",
        "## <b>Simplified version adapted from original [AyeAI](https://ayeai.xyz)\n",
        "\n",
        "##### <small>Original copyright of OpenEPI authors is acknowledged\n",
        "\n",
        "##### <small>Portions authored by Abhishek Choudhary, and/or Dr Srija Katta of AyeAI are copyrighted and licensed as below - applicable only to new additions not coverabe by original license. Modified original OpenEPI are distributed under matching terms.\n",
        "\n",
        "##### <b>(C) Copyright 2019-2022 Abhishek Choudhary, Dr Srija Katta\n",
        "##### <b>AyeSPL License (latest version applies). No warranty. No liability.\n",
        "\n"
      ],
      "metadata": {
        "id": "qecNprZS09z9"
      }
    },
    {
      "cell_type": "markdown",
      "metadata": {
        "id": "DOOEhAVwwy5z"
      },
      "source": [
        "# OpenEpi (Simplified UI for embedding)"
      ]
    },
    {
      "cell_type": "code",
      "metadata": {
        "id": "0ODzMjR5u87l",
        "colab": {
          "base_uri": "https://localhost:8080/",
          "height": 645
        },
        "cellView": "form",
        "outputId": "cbf7a0c4-8f3d-44ad-f8e6-5dd9bb3d9a88"
      },
      "source": [
        "#@title BriefDoc/About.htm\n",
        "%%html\n",
        "<iframe src=\"https://hit-tools.github.io/openepi-simplified/BriefDoc/About.htm\" width=\"100%\" height=\"600\"></iframe>\n"
      ],
      "execution_count": null,
      "outputs": [
        {
          "output_type": "display_data",
          "data": {
            "text/html": [
              "<iframe src=\"https://hit-tools.github.io/openepi-simplified/BriefDoc/About.htm\" width=\"100%\" height=\"600\"></iframe>"
            ],
            "text/plain": [
              "<IPython.core.display.HTML object>"
            ]
          },
          "metadata": {
            "tags": []
          }
        }
      ]
    },
    {
      "cell_type": "code",
      "metadata": {
        "id": "DKlra-sDu89q",
        "colab": {
          "base_uri": "https://localhost:8080/",
          "height": 645
        },
        "cellView": "form",
        "outputId": "fee73b3a-9855-4492-ad8b-da9de0c46454"
      },
      "source": [
        "#@title BriefDoc/Credits.htm\n",
        "%%html\n",
        "<iframe src=\"https://hit-tools.github.io/openepi-simplified/BriefDoc/Credits.htm\" width=\"100%\" height=\"600\"></iframe>\n"
      ],
      "execution_count": null,
      "outputs": [
        {
          "output_type": "display_data",
          "data": {
            "text/html": [
              "<iframe src=\"https://hit-tools.github.io/openepi-simplified/BriefDoc/Credits.htm\" width=\"100%\" height=\"600\"></iframe>"
            ],
            "text/plain": [
              "<IPython.core.display.HTML object>"
            ]
          },
          "metadata": {
            "tags": []
          }
        }
      ]
    },
    {
      "cell_type": "code",
      "metadata": {
        "id": "MGA5WA_ru9AO",
        "colab": {
          "base_uri": "https://localhost:8080/",
          "height": 645
        },
        "cellView": "form",
        "outputId": "4e8612fc-e174-46bc-9dd1-105fce47a209"
      },
      "source": [
        "#@title BriefDoc/History.htm\n",
        "%%html\n",
        "<iframe src=\"https://hit-tools.github.io/openepi-simplified/BriefDoc/History.htm\" width=\"100%\" height=\"600\"></iframe>\n"
      ],
      "execution_count": null,
      "outputs": [
        {
          "output_type": "display_data",
          "data": {
            "text/html": [
              "<iframe src=\"https://hit-tools.github.io/openepi-simplified/BriefDoc/History.htm\" width=\"100%\" height=\"600\"></iframe>"
            ],
            "text/plain": [
              "<IPython.core.display.HTML object>"
            ]
          },
          "metadata": {
            "tags": []
          }
        }
      ]
    },
    {
      "cell_type": "code",
      "metadata": {
        "id": "0N_rc7zXu9DK",
        "colab": {
          "base_uri": "https://localhost:8080/",
          "height": 645
        },
        "cellView": "form",
        "outputId": "49147717-a4be-4703-d40e-f0e27e31c45f"
      },
      "source": [
        "#@title BriefDoc/Licensing.htm\n",
        "%%html\n",
        "<iframe src=\"https://hit-tools.github.io/openepi-simplified/BriefDoc/Licensing.htm\" width=\"100%\" height=\"600\"></iframe>\n"
      ],
      "execution_count": null,
      "outputs": [
        {
          "output_type": "display_data",
          "data": {
            "text/html": [
              "<iframe src=\"https://hit-tools.github.io/openepi-simplified/BriefDoc/Licensing.htm\" width=\"100%\" height=\"600\"></iframe>"
            ],
            "text/plain": [
              "<IPython.core.display.HTML object>"
            ]
          },
          "metadata": {
            "tags": []
          }
        }
      ]
    },
    {
      "cell_type": "code",
      "metadata": {
        "id": "xreRVWTMu9Fw",
        "colab": {
          "base_uri": "https://localhost:8080/",
          "height": 645
        },
        "cellView": "form",
        "outputId": "00a0f8c5-8fea-4036-eed8-8875206d0901"
      },
      "source": [
        "#@title BriefDoc/News.htm\n",
        "%%html\n",
        "<iframe src=\"https://hit-tools.github.io/openepi-simplified/BriefDoc/News.htm\" width=\"100%\" height=\"600\"></iframe>\n"
      ],
      "execution_count": null,
      "outputs": [
        {
          "output_type": "display_data",
          "data": {
            "text/html": [
              "<iframe src=\"https://hit-tools.github.io/openepi-simplified/BriefDoc/News.htm\" width=\"100%\" height=\"600\"></iframe>"
            ],
            "text/plain": [
              "<IPython.core.display.HTML object>"
            ]
          },
          "metadata": {
            "tags": []
          }
        }
      ]
    },
    {
      "cell_type": "code",
      "metadata": {
        "id": "5yCO8cNcu9KM",
        "colab": {
          "base_uri": "https://localhost:8080/",
          "height": 645
        },
        "cellView": "form",
        "outputId": "c78de55e-9561-438e-bce4-d6aab7069b4f"
      },
      "source": [
        "#@title BriefDoc/UsingOpenEpi.htm\n",
        "%%html\n",
        "<iframe src=\"https://hit-tools.github.io/openepi-simplified/BriefDoc/UsingOpenEpi.htm\" width=\"100%\" height=\"600\"></iframe>\n"
      ],
      "execution_count": null,
      "outputs": [
        {
          "output_type": "display_data",
          "data": {
            "text/html": [
              "<iframe src=\"https://hit-tools.github.io/openepi-simplified/BriefDoc/UsingOpenEpi.htm\" width=\"100%\" height=\"600\"></iframe>"
            ],
            "text/plain": [
              "<IPython.core.display.HTML object>"
            ]
          },
          "metadata": {
            "tags": []
          }
        }
      ]
    },
    {
      "cell_type": "code",
      "metadata": {
        "id": "OyFUm6Jnu9O8",
        "colab": {
          "base_uri": "https://localhost:8080/",
          "height": 645
        },
        "cellView": "form",
        "outputId": "d047334a-9347-4de2-c94e-4705c31a396c"
      },
      "source": [
        "#@title Calculator/calculator.htm\n",
        "%%html\n",
        "<iframe src=\"https://hit-tools.github.io/openepi-simplified/Calculator/calculator.htm\" width=\"100%\" height=\"600\"></iframe>\n"
      ],
      "execution_count": null,
      "outputs": [
        {
          "output_type": "display_data",
          "data": {
            "text/html": [
              "<iframe src=\"https://hit-tools.github.io/openepi-simplified/Calculator/calculator.htm\" width=\"100%\" height=\"600\"></iframe>"
            ],
            "text/plain": [
              "<IPython.core.display.HTML object>"
            ]
          },
          "metadata": {
            "tags": []
          }
        }
      ]
    },
    {
      "cell_type": "code",
      "metadata": {
        "id": "hp_GIts6u9Rz",
        "colab": {
          "base_uri": "https://localhost:8080/",
          "height": 645
        },
        "cellView": "form",
        "outputId": "851be7a7-deda-43d8-8654-ce1e24f6e997"
      },
      "source": [
        "#@title DiagnosticTest/DiagnosticTest.htm\n",
        "%%html\n",
        "<iframe src=\"https://hit-tools.github.io/openepi-simplified/DiagnosticTest/DiagnosticTest.htm\" width=\"100%\" height=\"600\"></iframe>\n"
      ],
      "execution_count": null,
      "outputs": [
        {
          "output_type": "display_data",
          "data": {
            "text/html": [
              "<iframe src=\"https://hit-tools.github.io/openepi-simplified/DiagnosticTest/DiagnosticTest.htm\" width=\"100%\" height=\"600\"></iframe>"
            ],
            "text/plain": [
              "<IPython.core.display.HTML object>"
            ]
          },
          "metadata": {
            "tags": []
          }
        }
      ]
    },
    {
      "cell_type": "code",
      "metadata": {
        "id": "E6R5zWAiu9Ue",
        "colab": {
          "base_uri": "https://localhost:8080/",
          "height": 645
        },
        "cellView": "form",
        "outputId": "0ee95958-e33f-4ac3-d2b1-62ea37575510"
      },
      "source": [
        "#@title Documentation/JavaScriptTips.htm\n",
        "%%html\n",
        "<iframe src=\"https://hit-tools.github.io/openepi-simplified/Documentation/JavaScriptTips.htm\" width=\"100%\" height=\"600\"></iframe>\n"
      ],
      "execution_count": null,
      "outputs": [
        {
          "output_type": "display_data",
          "data": {
            "text/html": [
              "<iframe src=\"https://hit-tools.github.io/openepi-simplified/Documentation/JavaScriptTips.htm\" width=\"100%\" height=\"600\"></iframe>"
            ],
            "text/plain": [
              "<IPython.core.display.HTML object>"
            ]
          },
          "metadata": {
            "tags": []
          }
        }
      ]
    },
    {
      "cell_type": "code",
      "metadata": {
        "id": "qsFzU7hru9Xd",
        "colab": {
          "base_uri": "https://localhost:8080/",
          "height": 645
        },
        "cellView": "form",
        "outputId": "cf6011d4-8dd6-45e2-b165-cead44e2956f"
      },
      "source": [
        "#@title Documentation/Proposal2.htm\n",
        "%%html\n",
        "<iframe src=\"https://hit-tools.github.io/openepi-simplified/Documentation/Proposal2.htm\" width=\"100%\" height=\"600\"></iframe>\n"
      ],
      "execution_count": null,
      "outputs": [
        {
          "output_type": "display_data",
          "data": {
            "text/html": [
              "<iframe src=\"https://hit-tools.github.io/openepi-simplified/Documentation/Proposal2.htm\" width=\"100%\" height=\"600\"></iframe>"
            ],
            "text/plain": [
              "<IPython.core.display.HTML object>"
            ]
          },
          "metadata": {
            "tags": []
          }
        }
      ]
    },
    {
      "cell_type": "code",
      "metadata": {
        "id": "Bu8YRJ2Du9aW",
        "colab": {
          "base_uri": "https://localhost:8080/",
          "height": 645
        },
        "cellView": "form",
        "outputId": "954e0f2e-93dc-44c7-860c-7ec43098aab4"
      },
      "source": [
        "#@title Documentation/ToolkitDoc.htm\n",
        "%%html\n",
        "<iframe src=\"https://hit-tools.github.io/openepi-simplified/Documentation/ToolkitDoc.htm\" width=\"100%\" height=\"600\"></iframe>\n"
      ],
      "execution_count": null,
      "outputs": [
        {
          "output_type": "display_data",
          "data": {
            "text/html": [
              "<iframe src=\"https://hit-tools.github.io/openepi-simplified/Documentation/ToolkitDoc.htm\" width=\"100%\" height=\"600\"></iframe>"
            ],
            "text/plain": [
              "<IPython.core.display.HTML object>"
            ]
          },
          "metadata": {
            "tags": []
          }
        }
      ]
    },
    {
      "cell_type": "code",
      "metadata": {
        "id": "h71288R5u9dO",
        "colab": {
          "base_uri": "https://localhost:8080/",
          "height": 645
        },
        "cellView": "form",
        "outputId": "bf84865d-5437-458e-e82f-2d1e7e400265"
      },
      "source": [
        "#@title Documentation/Translation.htm\n",
        "%%html\n",
        "<iframe src=\"https://hit-tools.github.io/openepi-simplified/Documentation/Translation.htm\" width=\"100%\" height=\"600\"></iframe>\n"
      ],
      "execution_count": null,
      "outputs": [
        {
          "output_type": "display_data",
          "data": {
            "text/html": [
              "<iframe src=\"https://hit-tools.github.io/openepi-simplified/Documentation/Translation.htm\" width=\"100%\" height=\"600\"></iframe>"
            ],
            "text/plain": [
              "<IPython.core.display.HTML object>"
            ]
          },
          "metadata": {
            "tags": []
          }
        }
      ]
    },
    {
      "cell_type": "code",
      "metadata": {
        "id": "YegsvjXnu9gF",
        "colab": {
          "base_uri": "https://localhost:8080/",
          "height": 645
        },
        "cellView": "form",
        "outputId": "6e97274b-eb51-47df-eb06-93bab94eb1ce"
      },
      "source": [
        "#@title DoseResponse/DoseResponse.htm\n",
        "%%html\n",
        "<iframe src=\"https://hit-tools.github.io/openepi-simplified/DoseResponse/DoseResponse.htm\" width=\"100%\" height=\"600\"></iframe>\n"
      ],
      "execution_count": null,
      "outputs": [
        {
          "output_type": "display_data",
          "data": {
            "text/html": [
              "<iframe src=\"https://hit-tools.github.io/openepi-simplified/DoseResponse/DoseResponse.htm\" width=\"100%\" height=\"600\"></iframe>"
            ],
            "text/plain": [
              "<IPython.core.display.HTML object>"
            ]
          },
          "metadata": {
            "tags": []
          }
        }
      ]
    },
    {
      "cell_type": "code",
      "metadata": {
        "id": "-qCUMk9cu9ix",
        "colab": {
          "base_uri": "https://localhost:8080/",
          "height": 645
        },
        "cellView": "form",
        "outputId": "1b798712-99d1-4693-bf96-d4d6db1735e9"
      },
      "source": [
        "#@title Downloads/Downloads.htm\n",
        "%%html\n",
        "<iframe src=\"https://hit-tools.github.io/openepi-simplified/Downloads/Downloads.htm\" width=\"100%\" height=\"600\"></iframe>\n"
      ],
      "execution_count": null,
      "outputs": [
        {
          "output_type": "display_data",
          "data": {
            "text/html": [
              "<iframe src=\"https://hit-tools.github.io/openepi-simplified/Downloads/Downloads.htm\" width=\"100%\" height=\"600\"></iframe>"
            ],
            "text/plain": [
              "<IPython.core.display.HTML object>"
            ]
          },
          "metadata": {
            "tags": []
          }
        }
      ]
    },
    {
      "cell_type": "code",
      "metadata": {
        "id": "eMQaMQVxu9la",
        "colab": {
          "base_uri": "https://localhost:8080/",
          "height": 645
        },
        "outputId": "064f3fc8-5831-454a-bd15-0fdce6916b9a"
      },
      "source": [
        "#@title Links/Links.htm\n",
        "%%html\n",
        "<iframe src=\"https://hit-tools.github.io/openepi-simplified/Links/Links.htm\" width=\"100%\" height=\"600\"></iframe>\n"
      ],
      "execution_count": null,
      "outputs": [
        {
          "output_type": "display_data",
          "data": {
            "text/html": [
              "<iframe src=\"https://hit-tools.github.io/openepi-simplified/Links/Links.htm\" width=\"100%\" height=\"600\"></iframe>"
            ],
            "text/plain": [
              "<IPython.core.display.HTML object>"
            ]
          },
          "metadata": {
            "tags": []
          }
        }
      ]
    },
    {
      "cell_type": "code",
      "metadata": {
        "id": "JnbBhK8jvkFY",
        "colab": {
          "base_uri": "https://localhost:8080/",
          "height": 645
        },
        "cellView": "form",
        "outputId": "fcf164be-be4b-4c6c-9d18-0abc4011081c"
      },
      "source": [
        "#@title MatchCC/MatchCC.htm\n",
        "%%html\n",
        "<iframe src=\"https://hit-tools.github.io/openepi-simplified/MatchCC/MatchCC.htm\" width=\"100%\" height=\"600\"></iframe>\n"
      ],
      "execution_count": null,
      "outputs": [
        {
          "output_type": "display_data",
          "data": {
            "text/html": [
              "<iframe src=\"https://hit-tools.github.io/openepi-simplified/MatchCC/MatchCC.htm\" width=\"100%\" height=\"600\"></iframe>"
            ],
            "text/plain": [
              "<IPython.core.display.HTML object>"
            ]
          },
          "metadata": {
            "tags": []
          }
        }
      ]
    },
    {
      "cell_type": "code",
      "metadata": {
        "id": "vi1bnA8uvkIB",
        "colab": {
          "base_uri": "https://localhost:8080/",
          "height": 645
        },
        "cellView": "form",
        "outputId": "0541f020-04a3-453e-ccf6-cd546eb89821"
      },
      "source": [
        "#@title Mean/ANOVA.htm\n",
        "%%html\n",
        "<iframe src=\"https://hit-tools.github.io/openepi-simplified/Mean/ANOVA.htm\" width=\"100%\" height=\"600\"></iframe>\n"
      ],
      "execution_count": null,
      "outputs": [
        {
          "output_type": "display_data",
          "data": {
            "text/html": [
              "<iframe src=\"https://hit-tools.github.io/openepi-simplified/Mean/ANOVA.htm\" width=\"100%\" height=\"600\"></iframe>"
            ],
            "text/plain": [
              "<IPython.core.display.HTML object>"
            ]
          },
          "metadata": {
            "tags": []
          }
        }
      ]
    },
    {
      "cell_type": "code",
      "metadata": {
        "id": "4nRBP9vjvkKp",
        "colab": {
          "base_uri": "https://localhost:8080/",
          "height": 645
        },
        "cellView": "form",
        "outputId": "2ca6686d-b1da-4a97-c000-97d688f027d4"
      },
      "source": [
        "#@title Mean/CIMean.htm\n",
        "%%html\n",
        "<iframe src=\"https://hit-tools.github.io/openepi-simplified/Mean/CIMean.htm\" width=\"100%\" height=\"600\"></iframe>\n"
      ],
      "execution_count": null,
      "outputs": [
        {
          "output_type": "display_data",
          "data": {
            "text/html": [
              "<iframe src=\"https://hit-tools.github.io/openepi-simplified/Mean/CIMean.htm\" width=\"100%\" height=\"600\"></iframe>"
            ],
            "text/plain": [
              "<IPython.core.display.HTML object>"
            ]
          },
          "metadata": {
            "tags": []
          }
        }
      ]
    },
    {
      "cell_type": "code",
      "metadata": {
        "id": "Yrnhwh4lvkNS",
        "colab": {
          "base_uri": "https://localhost:8080/",
          "height": 645
        },
        "cellView": "form",
        "outputId": "709f1a02-18ea-42be-e027-6fa5d1332ad8"
      },
      "source": [
        "#@title Mean/t_testMean.htm\n",
        "%%html\n",
        "<iframe src=\"https://hit-tools.github.io/openepi-simplified/Mean/t_testMean.htm\" width=\"100%\" height=\"600\"></iframe>\n"
      ],
      "execution_count": null,
      "outputs": [
        {
          "output_type": "display_data",
          "data": {
            "text/html": [
              "<iframe src=\"https://hit-tools.github.io/openepi-simplified/Mean/t_testMean.htm\" width=\"100%\" height=\"600\"></iframe>"
            ],
            "text/plain": [
              "<IPython.core.display.HTML object>"
            ]
          },
          "metadata": {
            "tags": []
          }
        }
      ]
    },
    {
      "cell_type": "code",
      "metadata": {
        "id": "QdC37DzCvkPp",
        "colab": {
          "base_uri": "https://localhost:8080/",
          "height": 645
        },
        "cellView": "form",
        "outputId": "5ffeadcb-dbea-4be2-e8ae-a3062d375073"
      },
      "source": [
        "#@title Median/CIMedian.htm\n",
        "%%html\n",
        "<iframe src=\"https://hit-tools.github.io/openepi-simplified/Median/CIMedian.htm\" width=\"100%\" height=\"600\"></iframe>\n"
      ],
      "execution_count": null,
      "outputs": [
        {
          "output_type": "display_data",
          "data": {
            "text/html": [
              "<iframe src=\"https://hit-tools.github.io/openepi-simplified/Median/CIMedian.htm\" width=\"100%\" height=\"600\"></iframe>"
            ],
            "text/plain": [
              "<IPython.core.display.HTML object>"
            ]
          },
          "metadata": {
            "tags": []
          }
        }
      ]
    },
    {
      "cell_type": "code",
      "metadata": {
        "id": "kDbYM6tPvkSZ",
        "colab": {
          "base_uri": "https://localhost:8080/",
          "height": 645
        },
        "cellView": "form",
        "outputId": "62553a13-d339-4b37-bb0b-d9cf9dc154d9"
      },
      "source": [
        "#@title Menu/OE_Menu.htm\n",
        "%%html\n",
        "<iframe src=\"https://hit-tools.github.io/openepi-simplified/Menu/OE_Menu.htm\" width=\"100%\" height=\"600\"></iframe>\n"
      ],
      "execution_count": null,
      "outputs": [
        {
          "output_type": "display_data",
          "data": {
            "text/html": [
              "<iframe src=\"https://hit-tools.github.io/openepi-simplified/Menu/OE_Menu.htm\" width=\"100%\" height=\"600\"></iframe>"
            ],
            "text/plain": [
              "<IPython.core.display.HTML object>"
            ]
          },
          "metadata": {
            "tags": []
          }
        }
      ]
    },
    {
      "cell_type": "code",
      "metadata": {
        "id": "NH_HA68fvkXc",
        "colab": {
          "base_uri": "https://localhost:8080/",
          "height": 645
        },
        "cellView": "form",
        "outputId": "bb8b66ed-3618-475a-d26a-60e61d744a3f"
      },
      "source": [
        "#@title PersonTime1/PersonTime1.htm\n",
        "%%html\n",
        "<iframe src=\"https://hit-tools.github.io/openepi-simplified/PersonTime1/PersonTime1.htm\" width=\"100%\" height=\"600\"></iframe>\n"
      ],
      "execution_count": null,
      "outputs": [
        {
          "output_type": "display_data",
          "data": {
            "text/html": [
              "<iframe src=\"https://hit-tools.github.io/openepi-simplified/PersonTime1/PersonTime1.htm\" width=\"100%\" height=\"600\"></iframe>"
            ],
            "text/plain": [
              "<IPython.core.display.HTML object>"
            ]
          },
          "metadata": {
            "tags": []
          }
        }
      ]
    },
    {
      "cell_type": "code",
      "metadata": {
        "id": "lfk8OSeSvkaI",
        "colab": {
          "base_uri": "https://localhost:8080/",
          "height": 645
        },
        "cellView": "form",
        "outputId": "e526087f-1980-4821-9c2f-54816665335e"
      },
      "source": [
        "#@title PersonTime2/PersonTime2.htm\n",
        "%%html\n",
        "<iframe src=\"https://hit-tools.github.io/openepi-simplified/PersonTime2/PersonTime2.htm\" width=\"100%\" height=\"600\"></iframe>\n"
      ],
      "execution_count": null,
      "outputs": [
        {
          "output_type": "display_data",
          "data": {
            "text/html": [
              "<iframe src=\"https://hit-tools.github.io/openepi-simplified/PersonTime2/PersonTime2.htm\" width=\"100%\" height=\"600\"></iframe>"
            ],
            "text/plain": [
              "<IPython.core.display.HTML object>"
            ]
          },
          "metadata": {
            "tags": []
          }
        }
      ]
    },
    {
      "cell_type": "code",
      "metadata": {
        "id": "ufc_0O8wvkc5",
        "colab": {
          "base_uri": "https://localhost:8080/",
          "height": 645
        },
        "cellView": "form",
        "outputId": "ce745da0-234d-4126-e747-ce2359620ef0"
      },
      "source": [
        "#@title Power/PowerCC.htm\n",
        "%%html\n",
        "<iframe src=\"https://hit-tools.github.io/openepi-simplified/Power/PowerCC.htm\" width=\"100%\" height=\"600\"></iframe>\n"
      ],
      "execution_count": null,
      "outputs": [
        {
          "output_type": "display_data",
          "data": {
            "text/html": [
              "<iframe src=\"https://hit-tools.github.io/openepi-simplified/Power/PowerCC.htm\" width=\"100%\" height=\"600\"></iframe>"
            ],
            "text/plain": [
              "<IPython.core.display.HTML object>"
            ]
          },
          "metadata": {
            "tags": []
          }
        }
      ]
    },
    {
      "cell_type": "code",
      "metadata": {
        "id": "hEnQj-fCvkfw",
        "colab": {
          "base_uri": "https://localhost:8080/",
          "height": 645
        },
        "cellView": "form",
        "outputId": "cb3bc0dd-68ea-49cf-ac98-660c6e5e9a6d"
      },
      "source": [
        "#@title Power/PowerCohort.htm\n",
        "%%html\n",
        "<iframe src=\"https://hit-tools.github.io/openepi-simplified/Power/PowerCohort.htm\" width=\"100%\" height=\"600\"></iframe>\n"
      ],
      "execution_count": null,
      "outputs": [
        {
          "output_type": "display_data",
          "data": {
            "text/html": [
              "<iframe src=\"https://hit-tools.github.io/openepi-simplified/Power/PowerCohort.htm\" width=\"100%\" height=\"600\"></iframe>"
            ],
            "text/plain": [
              "<IPython.core.display.HTML object>"
            ]
          },
          "metadata": {
            "tags": []
          }
        }
      ]
    },
    {
      "cell_type": "code",
      "metadata": {
        "id": "Xhwq5wYcvkip",
        "colab": {
          "base_uri": "https://localhost:8080/",
          "height": 645
        },
        "cellView": "form",
        "outputId": "1d3d5895-1403-4413-df0d-d9d74dfb4e21"
      },
      "source": [
        "#@title Power/PowerCross.htm\n",
        "%%html\n",
        "<iframe src=\"https://hit-tools.github.io/openepi-simplified/Power/PowerCross.htm\" width=\"100%\" height=\"600\"></iframe>\n"
      ],
      "execution_count": null,
      "outputs": [
        {
          "output_type": "display_data",
          "data": {
            "text/html": [
              "<iframe src=\"https://hit-tools.github.io/openepi-simplified/Power/PowerCross.htm\" width=\"100%\" height=\"600\"></iframe>"
            ],
            "text/plain": [
              "<IPython.core.display.HTML object>"
            ]
          },
          "metadata": {
            "tags": []
          }
        }
      ]
    },
    {
      "cell_type": "code",
      "metadata": {
        "id": "flSHonyMvklP",
        "colab": {
          "base_uri": "https://localhost:8080/",
          "height": 645
        },
        "cellView": "form",
        "outputId": "217ee501-5d26-4c0e-d221-7d39d03c693c"
      },
      "source": [
        "#@title Power/PowerMean.htm\n",
        "%%html\n",
        "<iframe src=\"https://hit-tools.github.io/openepi-simplified/Power/PowerMean.htm\" width=\"100%\" height=\"600\"></iframe>\n"
      ],
      "execution_count": null,
      "outputs": [
        {
          "output_type": "display_data",
          "data": {
            "text/html": [
              "<iframe src=\"https://hit-tools.github.io/openepi-simplified/Power/PowerMean.htm\" width=\"100%\" height=\"600\"></iframe>"
            ],
            "text/plain": [
              "<IPython.core.display.HTML object>"
            ]
          },
          "metadata": {
            "tags": []
          }
        }
      ]
    },
    {
      "cell_type": "code",
      "metadata": {
        "id": "9RpIuNpFvkoU",
        "colab": {
          "base_uri": "https://localhost:8080/",
          "height": 645
        },
        "outputId": "be38c019-2c5f-4930-8eff-db7c973cfd09"
      },
      "source": [
        "#@title Power/PowerRCT.htm\n",
        "%%html\n",
        "<iframe src=\"https://hit-tools.github.io/openepi-simplified/Power/PowerRCT.htm\" width=\"100%\" height=\"600\"></iframe>\n"
      ],
      "execution_count": null,
      "outputs": [
        {
          "output_type": "display_data",
          "data": {
            "text/html": [
              "<iframe src=\"https://hit-tools.github.io/openepi-simplified/Power/PowerRCT.htm\" width=\"100%\" height=\"600\"></iframe>"
            ],
            "text/plain": [
              "<IPython.core.display.HTML object>"
            ]
          },
          "metadata": {
            "tags": []
          }
        }
      ]
    },
    {
      "cell_type": "code",
      "metadata": {
        "id": "SQyaFpyOvkrO",
        "colab": {
          "base_uri": "https://localhost:8080/",
          "height": 645
        },
        "cellView": "form",
        "outputId": "fbf77604-72e7-4b8f-f4aa-14ee9ac267d4"
      },
      "source": [
        "#@title Proportion/Proportion.htm\n",
        "%%html\n",
        "<iframe src=\"https://hit-tools.github.io/openepi-simplified/Proportion/Proportion.htm\" width=\"100%\" height=\"600\"></iframe>\n"
      ],
      "execution_count": null,
      "outputs": [
        {
          "output_type": "display_data",
          "data": {
            "text/html": [
              "<iframe src=\"https://hit-tools.github.io/openepi-simplified/Proportion/Proportion.htm\" width=\"100%\" height=\"600\"></iframe>"
            ],
            "text/plain": [
              "<IPython.core.display.HTML object>"
            ]
          },
          "metadata": {
            "tags": []
          }
        }
      ]
    },
    {
      "cell_type": "code",
      "metadata": {
        "id": "5iELilmxvkt8",
        "colab": {
          "base_uri": "https://localhost:8080/",
          "height": 645
        },
        "cellView": "form",
        "outputId": "13fe82e3-7888-4fa1-a347-02f56a70f4ba"
      },
      "source": [
        "#@title Random/Random.htm\n",
        "%%html\n",
        "<iframe src=\"https://hit-tools.github.io/openepi-simplified/Random/Random.htm\" width=\"100%\" height=\"600\"></iframe>\n"
      ],
      "execution_count": null,
      "outputs": [
        {
          "output_type": "display_data",
          "data": {
            "text/html": [
              "<iframe src=\"https://hit-tools.github.io/openepi-simplified/Random/Random.htm\" width=\"100%\" height=\"600\"></iframe>"
            ],
            "text/plain": [
              "<IPython.core.display.HTML object>"
            ]
          },
          "metadata": {
            "tags": []
          }
        }
      ]
    },
    {
      "cell_type": "code",
      "metadata": {
        "id": "2YilZz-Vvkwj",
        "colab": {
          "base_uri": "https://localhost:8080/",
          "height": 645
        },
        "cellView": "form",
        "outputId": "2f72cf42-154d-495a-cba5-083e2749a4e2"
      },
      "source": [
        "#@title RbyC/RbyC.htm\n",
        "%%html\n",
        "<iframe src=\"https://hit-tools.github.io/openepi-simplified/RbyC/RbyC.htm\" width=\"100%\" height=\"600\"></iframe>\n"
      ],
      "execution_count": null,
      "outputs": [
        {
          "output_type": "display_data",
          "data": {
            "text/html": [
              "<iframe src=\"https://hit-tools.github.io/openepi-simplified/RbyC/RbyC.htm\" width=\"100%\" height=\"600\"></iframe>"
            ],
            "text/plain": [
              "<IPython.core.display.HTML object>"
            ]
          },
          "metadata": {
            "tags": []
          }
        }
      ]
    },
    {
      "cell_type": "code",
      "metadata": {
        "id": "GawbHnmwvkzj",
        "colab": {
          "base_uri": "https://localhost:8080/",
          "height": 645
        },
        "cellView": "form",
        "outputId": "d959978c-0465-48bb-b900-8fb5fd2d381c"
      },
      "source": [
        "#@title SampleSize/SSCC.htm\n",
        "%%html\n",
        "<iframe src=\"https://hit-tools.github.io/openepi-simplified/SampleSize/SSCC.htm\" width=\"100%\" height=\"600\"></iframe>\n"
      ],
      "execution_count": null,
      "outputs": [
        {
          "output_type": "display_data",
          "data": {
            "text/html": [
              "<iframe src=\"https://hit-tools.github.io/openepi-simplified/SampleSize/SSCC.htm\" width=\"100%\" height=\"600\"></iframe>"
            ],
            "text/plain": [
              "<IPython.core.display.HTML object>"
            ]
          },
          "metadata": {
            "tags": []
          }
        }
      ]
    },
    {
      "cell_type": "code",
      "metadata": {
        "id": "N3M_qsIKvk2f",
        "colab": {
          "base_uri": "https://localhost:8080/",
          "height": 645
        },
        "cellView": "form",
        "outputId": "96399321-74b5-4ec2-bc0f-dcbcbb27aef9"
      },
      "source": [
        "#@title SampleSize/SSCohort.htm\n",
        "%%html\n",
        "<iframe src=\"https://hit-tools.github.io/openepi-simplified/SampleSize/SSCohort.htm\" width=\"100%\" height=\"600\"></iframe>\n"
      ],
      "execution_count": null,
      "outputs": [
        {
          "output_type": "display_data",
          "data": {
            "text/html": [
              "<iframe src=\"https://hit-tools.github.io/openepi-simplified/SampleSize/SSCohort.htm\" width=\"100%\" height=\"600\"></iframe>"
            ],
            "text/plain": [
              "<IPython.core.display.HTML object>"
            ]
          },
          "metadata": {
            "tags": []
          }
        }
      ]
    },
    {
      "cell_type": "code",
      "metadata": {
        "id": "98iGCrfivk5K",
        "colab": {
          "base_uri": "https://localhost:8080/",
          "height": 645
        },
        "cellView": "form",
        "outputId": "8bf8c0e5-b966-4f1b-957f-1cc91a7ee17b"
      },
      "source": [
        "#@title SampleSize/SSMean.htm\n",
        "%%html\n",
        "<iframe src=\"https://hit-tools.github.io/openepi-simplified/SampleSize/SSMean.htm\" width=\"100%\" height=\"600\"></iframe>\n"
      ],
      "execution_count": null,
      "outputs": [
        {
          "output_type": "display_data",
          "data": {
            "text/html": [
              "<iframe src=\"https://hit-tools.github.io/openepi-simplified/SampleSize/SSMean.htm\" width=\"100%\" height=\"600\"></iframe>"
            ],
            "text/plain": [
              "<IPython.core.display.HTML object>"
            ]
          },
          "metadata": {
            "tags": []
          }
        }
      ]
    },
    {
      "cell_type": "code",
      "metadata": {
        "id": "OhPrm7NTvk7-",
        "colab": {
          "base_uri": "https://localhost:8080/",
          "height": 645
        },
        "cellView": "form",
        "outputId": "39dc7aca-5cfe-48b5-e290-20e0da31cddb"
      },
      "source": [
        "#@title SampleSize/SSPropor.htm\n",
        "%%html\n",
        "<iframe src=\"https://hit-tools.github.io/openepi-simplified/SampleSize/SSPropor.htm\" width=\"100%\" height=\"600\"></iframe>\n"
      ],
      "execution_count": null,
      "outputs": [
        {
          "output_type": "display_data",
          "data": {
            "text/html": [
              "<iframe src=\"https://hit-tools.github.io/openepi-simplified/SampleSize/SSPropor.htm\" width=\"100%\" height=\"600\"></iframe>"
            ],
            "text/plain": [
              "<IPython.core.display.HTML object>"
            ]
          },
          "metadata": {
            "tags": []
          }
        }
      ]
    },
    {
      "cell_type": "code",
      "metadata": {
        "id": "pUoHuQEivk-6",
        "colab": {
          "base_uri": "https://localhost:8080/",
          "height": 645
        },
        "cellView": "form",
        "outputId": "c312d915-83a8-45cf-ec08-015708014192"
      },
      "source": [
        "#@title Search/Choosing.htm\n",
        "%%html\n",
        "<iframe src=\"https://hit-tools.github.io/openepi-simplified/Search/Choosing.htm\" width=\"100%\" height=\"600\"></iframe>\n"
      ],
      "execution_count": null,
      "outputs": [
        {
          "output_type": "display_data",
          "data": {
            "text/html": [
              "<iframe src=\"https://hit-tools.github.io/openepi-simplified/Search/Choosing.htm\" width=\"100%\" height=\"600\"></iframe>"
            ],
            "text/plain": [
              "<IPython.core.display.HTML object>"
            ]
          },
          "metadata": {
            "tags": []
          }
        }
      ]
    },
    {
      "cell_type": "code",
      "metadata": {
        "id": "poG-7MnivkU0",
        "colab": {
          "base_uri": "https://localhost:8080/",
          "height": 645
        },
        "cellView": "form",
        "outputId": "25b877b8-1db0-49a3-e28f-e8cbebff3c17"
      },
      "source": [
        "#@title Settings/Settings.htm\n",
        "%%html\n",
        "<iframe src=\"https://hit-tools.github.io/openepi-simplified/Settings/Settings.htm\" width=\"100%\" height=\"600\"></iframe>\n"
      ],
      "execution_count": null,
      "outputs": [
        {
          "output_type": "display_data",
          "data": {
            "text/html": [
              "<iframe src=\"https://hit-tools.github.io/openepi-simplified/Settings/Settings.htm\" width=\"100%\" height=\"600\"></iframe>"
            ],
            "text/plain": [
              "<IPython.core.display.HTML object>"
            ]
          },
          "metadata": {
            "tags": []
          }
        }
      ]
    },
    {
      "cell_type": "code",
      "metadata": {
        "id": "-Ami2BSAwOmb",
        "colab": {
          "base_uri": "https://localhost:8080/",
          "height": 645
        },
        "cellView": "form",
        "outputId": "270299e9-b2d1-41ce-9f71-aa4689eb83df"
      },
      "source": [
        "#@title SMR/SMR.htm\n",
        "%%html\n",
        "<iframe src=\"https://hit-tools.github.io/openepi-simplified/SMR/SMR.htm\" width=\"100%\" height=\"600\"></iframe>\n"
      ],
      "execution_count": null,
      "outputs": [
        {
          "output_type": "display_data",
          "data": {
            "text/html": [
              "<iframe src=\"https://hit-tools.github.io/openepi-simplified/SMR/SMR.htm\" width=\"100%\" height=\"600\"></iframe>"
            ],
            "text/plain": [
              "<IPython.core.display.HTML object>"
            ]
          },
          "metadata": {
            "tags": []
          }
        }
      ]
    },
    {
      "cell_type": "code",
      "metadata": {
        "id": "olqOu4LawOtp",
        "colab": {
          "base_uri": "https://localhost:8080/",
          "height": 645
        },
        "cellView": "form",
        "outputId": "5bc3628c-768d-4dda-ec58-98ac662cec5e"
      },
      "source": [
        "#@title TwobyTwo/TwobyTwo.htm\n",
        "%%html\n",
        "<iframe src=\"https://hit-tools.github.io/openepi-simplified/TwobyTwo/TwobyTwo.htm\" width=\"100%\" height=\"600\"></iframe>\n"
      ],
      "execution_count": null,
      "outputs": [
        {
          "output_type": "display_data",
          "data": {
            "text/html": [
              "<iframe src=\"https://hit-tools.github.io/openepi-simplified/TwobyTwo/TwobyTwo.htm\" width=\"100%\" height=\"600\"></iframe>"
            ],
            "text/plain": [
              "<IPython.core.display.HTML object>"
            ]
          },
          "metadata": {
            "tags": []
          }
        }
      ]
    },
    {
      "cell_type": "markdown",
      "metadata": {
        "id": "UotDSRI_mvsL"
      },
      "source": [
        "# Development Tools"
      ]
    },
    {
      "cell_type": "code",
      "metadata": {
        "id": "f9xAsis3AZTn",
        "colab": {
          "base_uri": "https://localhost:8080/",
          "height": 68
        },
        "outputId": "ea4ad2da-2fb4-4b64-8f54-377b5d62909d"
      },
      "source": [
        "%%shell\n",
        "printf \"Checking prerequisites... \"\n",
        "sudo apt update &>/dev/null\n",
        "sudo apt install python screen psmisc &>/dev/null\n",
        "echo Done\n",
        " \n",
        "printf \"Cloning OpenEpi (Simplified UI)... \"\n",
        "mv ~/openepi-simplified ~/openepi-simplified_$(date +%s) &>/dev/null\n",
        "git clone https://github.com/HIT-Tools/openepi-simplified ~/openepi-simplified &>/dev/null\n",
        "echo Done\n",
        " \n",
        "printf \"Starting OpenEpi server... \"\n",
        "killall screen &>/dev/null\n",
        "screen -dmS \"openepi\" bash -c 'cd ~/openepi-simplified && python2 -m server'\n",
        "echo Ready"
      ],
      "execution_count": null,
      "outputs": [
        {
          "output_type": "stream",
          "text": [
            "Checking prerequisites... Done\n",
            "Cloning OpenEpi (Simplified UI)... Done\n",
            "Starting OpenEpi server... Ready\n"
          ],
          "name": "stdout"
        },
        {
          "output_type": "execute_result",
          "data": {
            "text/plain": [
              ""
            ]
          },
          "metadata": {
            "tags": []
          },
          "execution_count": 175
        }
      ]
    },
    {
      "cell_type": "code",
      "metadata": {
        "id": "tPioJvO5CQAL",
        "colab": {
          "base_uri": "https://localhost:8080/",
          "height": 421
        },
        "outputId": "b275cf18-dbf0-441e-8e09-c26c36510bda"
      },
      "source": [
        "from google.colab import output\n",
        "w=output.serve_kernel_port_as_iframe(8888)"
      ],
      "execution_count": null,
      "outputs": [
        {
          "output_type": "display_data",
          "data": {
            "application/javascript": [
              "(async (port, path, width, height, cache, element) => {\n",
              "    if (!google.colab.kernel.accessAllowed && !cache) {\n",
              "      return;\n",
              "    }\n",
              "    element.appendChild(document.createTextNode(''));\n",
              "    const url = await google.colab.kernel.proxyPort(port, {cache});\n",
              "    const iframe = document.createElement('iframe');\n",
              "    iframe.src = url + path;\n",
              "    iframe.height = height;\n",
              "    iframe.width = width;\n",
              "    iframe.style.border = 0;\n",
              "    element.appendChild(iframe);\n",
              "  })(8888, \"/\", \"100%\", \"400\", false, window.element)"
            ],
            "text/plain": [
              "<IPython.core.display.Javascript object>"
            ]
          },
          "metadata": {
            "tags": []
          }
        }
      ]
    }
  ]
}